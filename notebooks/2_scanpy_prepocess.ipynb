{
 "cells": [
  {
   "cell_type": "code",
   "execution_count": 2,
   "metadata": {},
   "outputs": [],
   "source": [
    "import scanpy as sc\n",
    "import pandas as pd"
   ]
  },
  {
   "cell_type": "code",
   "execution_count": 3,
   "metadata": {},
   "outputs": [
    {
     "name": "stderr",
     "output_type": "stream",
     "text": [
      "... storing 'dT' as categorical\n",
      "... storing 'Drug1' as categorical\n",
      "... storing 'Drug2' as categorical\n",
      "... storing 'Combo' as categorical\n",
      "... storing 'Ordered' as categorical\n",
      "/Users/benceszalai/opt/anaconda3/envs/scanpy/lib/python3.7/site-packages/scanpy/preprocessing/_combat.py:340: RuntimeWarning: invalid value encountered in true_divide\n",
      "  (abs(g_new - g_old) / g_old).max(), (abs(d_new - d_old) / d_old).max()\n",
      "/Users/benceszalai/opt/anaconda3/envs/scanpy/lib/python3.7/site-packages/scanpy/preprocessing/_combat.py:340: RuntimeWarning: divide by zero encountered in true_divide\n",
      "  (abs(g_new - g_old) / g_old).max(), (abs(d_new - d_old) / d_old).max()\n"
     ]
    },
    {
     "name": "stdout",
     "output_type": "stream",
     "text": [
      "Found 8 genes with zero variance.\n"
     ]
    },
    {
     "name": "stderr",
     "output_type": "stream",
     "text": [
      "... storing 'dT' as categorical\n",
      "... storing 'Drug1' as categorical\n",
      "... storing 'Drug2' as categorical\n",
      "... storing 'Combo' as categorical\n",
      "... storing 'Ordered' as categorical\n"
     ]
    },
    {
     "name": "stdout",
     "output_type": "stream",
     "text": [
      "Found 2 genes with zero variance.\n"
     ]
    },
    {
     "name": "stderr",
     "output_type": "stream",
     "text": [
      "... storing 'dT' as categorical\n",
      "... storing 'Drug1' as categorical\n",
      "... storing 'Drug2' as categorical\n",
      "... storing 'Combo' as categorical\n",
      "... storing 'Ordered' as categorical\n",
      "... storing 'dT' as categorical\n",
      "... storing 'Drug1' as categorical\n",
      "... storing 'Drug2' as categorical\n",
      "... storing 'Combo' as categorical\n",
      "... storing 'Ordered' as categorical\n",
      "... storing 'dT' as categorical\n",
      "... storing 'Drug1' as categorical\n",
      "... storing 'Drug2' as categorical\n",
      "... storing 'Combo' as categorical\n",
      "... storing 'Ordered' as categorical\n",
      "... storing 'dT' as categorical\n",
      "... storing 'Drug1' as categorical\n",
      "... storing 'Drug2' as categorical\n",
      "... storing 'Combo' as categorical\n",
      "... storing 'Ordered' as categorical\n"
     ]
    }
   ],
   "source": [
    "for f in ['3', '10', '30']:\n",
    "    for ex in ['dt', 'bio']:\n",
    "        data = data = pd.read_csv('../results/small_scale/filtered_%s_HGNC_counts_%s.csv' % (ex, f),\n",
    "                                  sep=',', header=0, index_col=0).T\n",
    "        meta = pd.read_csv('../results/small_scale/filtered_%s_HGNC_meta_%s.csv' % (ex, f),\n",
    "                           sep=',', header=0, index_col=0)\n",
    "        adata = sc.AnnData(X=data, obs=meta)\n",
    "        sc.pp.normalize_total(adata, target_sum=1e4, exclude_highly_expressed=True)\n",
    "        sc.pp.log1p(adata)\n",
    "        sc.pp.combat(adata, 'Run')\n",
    "        sc.pp.scale(adata)\n",
    "        adata.to_df().to_csv('../results/small_scale/filtered_%s_HGNC_counts_%s_sc.csv' % (ex, f))"
   ]
  },
  {
   "cell_type": "code",
   "execution_count": 3,
   "metadata": {},
   "outputs": [
    {
     "name": "stderr",
     "output_type": "stream",
     "text": [
      "... storing 'Run' as categorical\n",
      "... storing 'Drug1' as categorical\n",
      "... storing 'Drug2' as categorical\n",
      "... storing 'Combo' as categorical\n",
      "... storing 'Ordered' as categorical\n",
      "... storing 'Run' as categorical\n",
      "... storing 'Drug1' as categorical\n",
      "... storing 'Drug2' as categorical\n",
      "... storing 'Combo' as categorical\n",
      "... storing 'Ordered' as categorical\n",
      "... storing 'Run' as categorical\n",
      "... storing 'Drug1' as categorical\n",
      "... storing 'Drug2' as categorical\n",
      "... storing 'Combo' as categorical\n",
      "... storing 'Ordered' as categorical\n"
     ]
    }
   ],
   "source": [
    "for f in ['100', '300', '500']:\n",
    "    data = data = pd.read_csv('../results/large_scale//filtered_HGNC_counts_%s.csv' % (f),\n",
    "                                  sep=',', header=0, index_col=0).T\n",
    "    meta = pd.read_csv('../results/large_scale//filtered_HGNC_meta_%s.csv' % (f),\n",
    "                           sep=',', header=0, index_col=0)\n",
    "    adata = sc.AnnData(X=data, obs=meta)\n",
    "    sc.pp.normalize_total(adata, target_sum=1e4, exclude_highly_expressed=True)\n",
    "    sc.pp.log1p(adata)\n",
    "    sc.pp.combat(adata, 'Run')\n",
    "    sc.pp.scale(adata)\n",
    "    adata.to_df().to_csv('../results/large_scale/filtered_HGNC_counts_%s_sc.csv' % (f))\n"
   ]
  },
  {
   "cell_type": "code",
   "execution_count": null,
   "metadata": {},
   "outputs": [],
   "source": []
  }
 ],
 "metadata": {
  "kernelspec": {
   "display_name": "scanpy",
   "language": "python",
   "name": "scanpy"
  },
  "language_info": {
   "codemirror_mode": {
    "name": "ipython",
    "version": 3
   },
   "file_extension": ".py",
   "mimetype": "text/x-python",
   "name": "python",
   "nbconvert_exporter": "python",
   "pygments_lexer": "ipython3",
   "version": "3.7.7"
  }
 },
 "nbformat": 4,
 "nbformat_minor": 4
}
