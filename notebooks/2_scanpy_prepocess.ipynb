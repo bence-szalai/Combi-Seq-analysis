{
 "cells": [
  {
   "cell_type": "code",
   "execution_count": 4,
   "metadata": {},
   "outputs": [],
   "source": [
    "import scanpy as sc\n",
    "import pandas as pd"
   ]
  },
  {
   "cell_type": "markdown",
   "metadata": {},
   "source": [
    "We perform normalization, log transformation, batch effect removal and scaling of the data."
   ]
  },
  {
   "cell_type": "code",
   "execution_count": 5,
   "metadata": {},
   "outputs": [
    {
     "name": "stderr",
     "output_type": "stream",
     "text": [
      "... storing 'dT' as categorical\n",
      "... storing 'Drug1' as categorical\n",
      "... storing 'Drug2' as categorical\n",
      "... storing 'Combo' as categorical\n",
      "... storing 'Ordered' as categorical\n"
     ]
    },
    {
     "name": "stdout",
     "output_type": "stream",
     "text": [
      "Found 4 genes with zero variance.\n"
     ]
    },
    {
     "name": "stderr",
     "output_type": "stream",
     "text": [
      "... storing 'dT' as categorical\n",
      "... storing 'Drug1' as categorical\n",
      "... storing 'Drug2' as categorical\n",
      "... storing 'Combo' as categorical\n",
      "... storing 'Ordered' as categorical\n"
     ]
    },
    {
     "name": "stdout",
     "output_type": "stream",
     "text": [
      "Found 7 genes with zero variance.\n"
     ]
    },
    {
     "name": "stderr",
     "output_type": "stream",
     "text": [
      "... storing 'dT' as categorical\n",
      "... storing 'Drug1' as categorical\n",
      "... storing 'Drug2' as categorical\n",
      "... storing 'Combo' as categorical\n",
      "... storing 'Ordered' as categorical\n",
      "... storing 'dT' as categorical\n",
      "... storing 'Drug1' as categorical\n",
      "... storing 'Drug2' as categorical\n",
      "... storing 'Combo' as categorical\n",
      "... storing 'Ordered' as categorical\n",
      "... storing 'dT' as categorical\n",
      "... storing 'Drug1' as categorical\n",
      "... storing 'Drug2' as categorical\n",
      "... storing 'Combo' as categorical\n",
      "... storing 'Ordered' as categorical\n",
      "... storing 'dT' as categorical\n",
      "... storing 'Drug1' as categorical\n",
      "... storing 'Drug2' as categorical\n",
      "... storing 'Combo' as categorical\n",
      "... storing 'Ordered' as categorical\n"
     ]
    }
   ],
   "source": [
    "for f in ['3', '10', '30']:\n",
    "    for ex in ['dt', 'bio']:\n",
    "        data = data = pd.read_csv('../results/small_scale/filtered_%s_HGNC_counts_%s.csv' % (ex, f),\n",
    "                                  sep=',', header=0, index_col=0).T\n",
    "        meta = pd.read_csv('../results/small_scale/filtered_%s_HGNC_meta_%s.csv' % (ex, f),\n",
    "                           sep=',', header=0, index_col=0)\n",
    "        adata = sc.AnnData(X=data, obs=meta)\n",
    "        sc.pp.normalize_total(adata, target_sum=1e4, exclude_highly_expressed=True)\n",
    "        sc.pp.log1p(adata)\n",
    "        sc.pp.combat(adata, 'Run')\n",
    "        sc.pp.scale(adata)\n",
    "        adata.to_df().to_csv('../results/small_scale/filtered_%s_HGNC_counts_%s_sc.csv' % (ex, f))"
   ]
  },
  {
   "cell_type": "code",
   "execution_count": 6,
   "metadata": {},
   "outputs": [
    {
     "name": "stderr",
     "output_type": "stream",
     "text": [
      "... storing 'Run' as categorical\n",
      "... storing 'Drug1' as categorical\n",
      "... storing 'Drug2' as categorical\n",
      "... storing 'Combo' as categorical\n",
      "... storing 'Ordered' as categorical\n",
      "... storing 'Run' as categorical\n",
      "... storing 'Drug1' as categorical\n",
      "... storing 'Drug2' as categorical\n",
      "... storing 'Combo' as categorical\n",
      "... storing 'Ordered' as categorical\n",
      "... storing 'Run' as categorical\n",
      "... storing 'Drug1' as categorical\n",
      "... storing 'Drug2' as categorical\n",
      "... storing 'Combo' as categorical\n",
      "... storing 'Ordered' as categorical\n"
     ]
    }
   ],
   "source": [
    "for f in ['100', '300', '500']:\n",
    "    data = data = pd.read_csv('../results/large_scale//filtered_HGNC_counts_%s.csv' % (f),\n",
    "                                  sep=',', header=0, index_col=0).T\n",
    "    meta = pd.read_csv('../results/large_scale//filtered_HGNC_meta_%s.csv' % (f),\n",
    "                           sep=',', header=0, index_col=0)\n",
    "    adata = sc.AnnData(X=data, obs=meta)\n",
    "    sc.pp.normalize_total(adata, target_sum=1e4, exclude_highly_expressed=True)\n",
    "    sc.pp.log1p(adata)\n",
    "    sc.pp.combat(adata, 'Run')\n",
    "    sc.pp.scale(adata)\n",
    "    adata.to_df().to_csv('../results/large_scale/filtered_HGNC_counts_%s_sc.csv' % (f))\n"
   ]
  },
  {
   "cell_type": "code",
   "execution_count": null,
   "metadata": {},
   "outputs": [],
   "source": []
  }
 ],
 "metadata": {
  "kernelspec": {
   "display_name": "scanpy",
   "language": "python",
   "name": "scanpy"
  },
  "language_info": {
   "codemirror_mode": {
    "name": "ipython",
    "version": 3
   },
   "file_extension": ".py",
   "mimetype": "text/x-python",
   "name": "python",
   "nbconvert_exporter": "python",
   "pygments_lexer": "ipython3",
   "version": "3.7.7"
  }
 },
 "nbformat": 4,
 "nbformat_minor": 4
}
