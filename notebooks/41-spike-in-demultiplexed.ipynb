{
 "cells": [
  {
   "cell_type": "code",
   "execution_count": 1,
   "metadata": {},
   "outputs": [],
   "source": [
    "%config Completer.use_jedi = False\n",
    "\n",
    "import pandas as pd\n",
    "import numpy as np\n",
    "\n",
    "import os\n",
    "from subprocess import call\n",
    "\n",
    "import seaborn as sns\n",
    "from matplotlib import pyplot as plt"
   ]
  },
  {
   "cell_type": "markdown",
   "metadata": {},
   "source": [
    "### Kallisto indexing with ERCC"
   ]
  },
  {
   "cell_type": "code",
   "execution_count": 5,
   "metadata": {},
   "outputs": [],
   "source": [
    "### read HS transcriptome\n",
    "fin = open('../data/external/kallisto/homo_sapiens/Homo_sapiens.GRCh38.cdna.all.fa')\n",
    "flines = fin.readlines()\n",
    "fin.close()"
   ]
  },
  {
   "cell_type": "code",
   "execution_count": 6,
   "metadata": {},
   "outputs": [],
   "source": [
    "### add ERCC sequences to the end of HS transcriptome\n",
    "fout = open('../data/external/kallisto/homo_sapiens_ercc.fa', 'w')\n",
    "for line in flines:\n",
    "    fout.write(line)\n",
    "fin = open('../data/external/ERCC92/ERCC92.fa', 'r')\n",
    "flines = fin.readlines()\n",
    "fin.close()\n",
    "for line in flines:\n",
    "    fout.write(line)\n",
    "fout.close()"
   ]
  },
  {
   "cell_type": "code",
   "execution_count": 7,
   "metadata": {},
   "outputs": [
    {
     "name": "stdout",
     "output_type": "stream",
     "text": [
      "\n",
      "[build] loading fasta file ../data/external/kallisto/homo_sapiens_ercc.fa\n",
      "[build] k-mer length: 31\n",
      "[build] warning: clipped off poly-A tail (longer than 10)\n",
      "        from 1522 target sequences\n",
      "[build] warning: replaced 6 non-ACGUT characters in the input sequence\n",
      "        with pseudorandom nucleotides\n",
      "[build] counting k-mers ... done.\n",
      "[build] building target de Bruijn graph ...  done \n",
      "[build] creating equivalence classes ...  done\n",
      "[build] target de Bruijn graph has 1131979 contigs and contains 109622116 k-mers \n",
      "\n"
     ]
    }
   ],
   "source": [
    "### make the indexing\n",
    "!kallisto index -i ../data/external/kallisto/transcripts.idx ../data/external/kallisto/homo_sapiens_ercc.fa"
   ]
  },
  {
   "cell_type": "markdown",
   "metadata": {},
   "source": [
    "### Run pseudo-alignment"
   ]
  },
  {
   "cell_type": "markdown",
   "metadata": {},
   "source": [
    "Bulk"
   ]
  },
  {
   "cell_type": "code",
   "execution_count": 15,
   "metadata": {},
   "outputs": [],
   "source": [
    "dnames = os.listdir('../data/all_new_data/demultiplexed_data/220208_upload_bulk/')\n",
    "dnames = [x for x in dnames if 'jemult' in x]\n",
    "for dname_ in dnames:\n",
    "    os.mkdir('../results/demultiplexed-ercc/bulk/'+dname_)"
   ]
  },
  {
   "cell_type": "code",
   "execution_count": 28,
   "metadata": {},
   "outputs": [],
   "source": [
    "for dname_ in dnames:\n",
    "    fnames = os.listdir('../data/all_new_data/demultiplexed_data/220208_upload_bulk/'+dname_)\n",
    "    fnames = [x for x in fnames if x[-3:]=='.gz']\n",
    "    fnames = [x for x in fnames if 'unassigned' not in x]\n",
    "    fnames = [x for x in fnames if x[-8]!='2']\n",
    "    suffix = '.txt.gz'\n",
    "    fnames = [x[:-9] for x in fnames]\n",
    "    for fname_ in fnames:\n",
    "        call(['kallisto', 'quant', \n",
    "          '-i', '../data/external/kallisto/transcripts.idx',\n",
    "          '-o', '../results/demultiplexed-ercc/bulk/' + dname_ + '/' + fname_,\n",
    "          '../data/all_new_data/demultiplexed_data/220208_upload_bulk/' + dname_ +'/'+fname_+'_1'+suffix, \n",
    "          '../data/all_new_data/demultiplexed_data/220208_upload_bulk/' + dname_ +'/'+fname_+'_2'+suffix])"
   ]
  },
  {
   "cell_type": "markdown",
   "metadata": {},
   "source": [
    "Exp2"
   ]
  },
  {
   "cell_type": "code",
   "execution_count": 33,
   "metadata": {},
   "outputs": [],
   "source": [
    "dnames = os.listdir('../data/all_new_data/demultiplexed_data/220217_upload_2_Drop_2nd_exp/PKG - Mathur_K5PHY_je_bam/')\n",
    "dnames = [x for x in dnames if 'jemult' in x]\n",
    "for dname_ in dnames:\n",
    "    os.mkdir('../results/demultiplexed-ercc/exp2/'+dname_)"
   ]
  },
  {
   "cell_type": "code",
   "execution_count": 34,
   "metadata": {},
   "outputs": [],
   "source": [
    "for dname_ in dnames:\n",
    "    fnames = os.listdir('../data/all_new_data/demultiplexed_data/220217_upload_2_Drop_2nd_exp/PKG - Mathur_K5PHY_je_bam/'+dname_)\n",
    "    fnames = [x for x in fnames if x[-3:]=='.gz']\n",
    "    fnames = [x for x in fnames if 'unassigned' not in x]\n",
    "    fnames = [x for x in fnames if x[-8]!='2']\n",
    "    suffix = '.txt.gz'\n",
    "    fnames = [x[:-9] for x in fnames]\n",
    "    for fname_ in fnames:\n",
    "        call(['kallisto', 'quant', \n",
    "          '-i', '../data/external/kallisto/transcripts.idx',\n",
    "          '-o', '../results/demultiplexed-ercc/exp2//' + dname_ + '/' + fname_,\n",
    "          '../data/all_new_data/demultiplexed_data/220217_upload_2_Drop_2nd_exp/PKG - Mathur_K5PHY_je_bam/' + dname_ +'/'+fname_+'_1'+suffix, \n",
    "          '../data/all_new_data/demultiplexed_data/220217_upload_2_Drop_2nd_exp/PKG - Mathur_K5PHY_je_bam/' + dname_ +'/'+fname_+'_2'+suffix])"
   ]
  },
  {
   "cell_type": "markdown",
   "metadata": {},
   "source": [
    "Exp3"
   ]
  },
  {
   "cell_type": "code",
   "execution_count": 36,
   "metadata": {},
   "outputs": [],
   "source": [
    "dnames = os.listdir('../data/all_new_data/demultiplexed_data/220217_3rd_upload_Drop_3rd_exp/PKG - Mathur_K5V43_je_bam/')\n",
    "dnames = [x for x in dnames if 'jemult' in x]\n",
    "for dname_ in dnames:\n",
    "    os.mkdir('../results/demultiplexed-ercc/exp3/'+dname_)"
   ]
  },
  {
   "cell_type": "code",
   "execution_count": 37,
   "metadata": {},
   "outputs": [],
   "source": [
    "for dname_ in dnames:\n",
    "    fnames = os.listdir('../data/all_new_data/demultiplexed_data/220217_3rd_upload_Drop_3rd_exp/PKG - Mathur_K5V43_je_bam/'+dname_)\n",
    "    fnames = [x for x in fnames if x[-3:]=='.gz']\n",
    "    fnames = [x for x in fnames if 'unassigned' not in x]\n",
    "    fnames = [x for x in fnames if x[-8]!='2']\n",
    "    suffix = '.txt.gz'\n",
    "    fnames = [x[:-9] for x in fnames]\n",
    "    for fname_ in fnames:\n",
    "        call(['kallisto', 'quant', \n",
    "          '-i', '../data/external/kallisto/transcripts.idx',\n",
    "          '-o', '../results/demultiplexed-ercc/exp3/' + dname_ + '/' + fname_,\n",
    "          '../data/all_new_data/demultiplexed_data/220217_3rd_upload_Drop_3rd_exp/PKG - Mathur_K5V43_je_bam/' + dname_ +'/'+fname_+'_1'+suffix, \n",
    "          '../data/all_new_data/demultiplexed_data/220217_3rd_upload_Drop_3rd_exp/PKG - Mathur_K5V43_je_bam/' + dname_ +'/'+fname_+'_2'+suffix])"
   ]
  },
  {
   "cell_type": "code",
   "execution_count": null,
   "metadata": {},
   "outputs": [],
   "source": []
  }
 ],
 "metadata": {
  "kernelspec": {
   "display_name": "pycharm",
   "language": "python",
   "name": "pycharm"
  },
  "language_info": {
   "codemirror_mode": {
    "name": "ipython",
    "version": 3
   },
   "file_extension": ".py",
   "mimetype": "text/x-python",
   "name": "python",
   "nbconvert_exporter": "python",
   "pygments_lexer": "ipython3",
   "version": "3.7.7"
  }
 },
 "nbformat": 4,
 "nbformat_minor": 4
}
