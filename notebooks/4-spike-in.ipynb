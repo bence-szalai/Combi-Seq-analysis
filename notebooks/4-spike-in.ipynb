{
 "cells": [
  {
   "cell_type": "code",
   "execution_count": 1,
   "metadata": {},
   "outputs": [],
   "source": [
    "%config Completer.use_jedi = False\n",
    "import pandas as pd\n",
    "import numpy as np\n",
    "import os\n",
    "from subprocess import call\n",
    "import seaborn as sns\n",
    "from matplotlib import pyplot as plt"
   ]
  },
  {
   "cell_type": "markdown",
   "metadata": {},
   "source": [
    "### Creare fasta file"
   ]
  },
  {
   "cell_type": "code",
   "execution_count": 2,
   "metadata": {},
   "outputs": [],
   "source": [
    "fin = open('../data/external/kallisto/homo_sapiens/Homo_sapiens.GRCh38.cdna.all.fa')\n",
    "flines = fin.readlines()\n",
    "fin.close()"
   ]
  },
  {
   "cell_type": "code",
   "execution_count": 5,
   "metadata": {},
   "outputs": [],
   "source": [
    "fout = open('../data/external/kallisto/homo_sapiens_ercc.fa', 'w')\n",
    "for line in flines:\n",
    "    fout.write(line)\n",
    "fin = open('../data/external/ERCC92/ERCC92.fa', 'r')\n",
    "flines = fin.readlines()\n",
    "fin.close()\n",
    "for line in flines:\n",
    "    fout.write(line)\n",
    "fout.close()"
   ]
  },
  {
   "cell_type": "markdown",
   "metadata": {},
   "source": [
    "### Indexing"
   ]
  },
  {
   "cell_type": "code",
   "execution_count": 6,
   "metadata": {},
   "outputs": [
    {
     "name": "stdout",
     "output_type": "stream",
     "text": [
      "\n",
      "[build] loading fasta file ../data/external/kallisto/homo_sapiens_ercc.fa\n",
      "[build] k-mer length: 31\n",
      "[build] warning: clipped off poly-A tail (longer than 10)\n",
      "        from 1522 target sequences\n",
      "[build] warning: replaced 6 non-ACGUT characters in the input sequence\n",
      "        with pseudorandom nucleotides\n",
      "[build] counting k-mers ... done.\n",
      "[build] building target de Bruijn graph ...  done \n",
      "[build] creating equivalence classes ...  done\n",
      "[build] target de Bruijn graph has 1131979 contigs and contains 109622116 k-mers \n",
      "\n"
     ]
    }
   ],
   "source": [
    "!kallisto index -i ../data/external/kallisto/transcripts.idx ../data/external/kallisto/homo_sapiens_ercc.fa"
   ]
  },
  {
   "cell_type": "code",
   "execution_count": 3,
   "metadata": {},
   "outputs": [],
   "source": [
    "fnames = os.listdir('../data/spike-in/')\n",
    "sufix = '_sequence.txt.gz'\n",
    "fnames = [x[:-len(sufix)-1] for x in fnames]\n",
    "fnames = list(set(fnames))"
   ]
  },
  {
   "cell_type": "code",
   "execution_count": 43,
   "metadata": {},
   "outputs": [],
   "source": [
    "for fname_ in fnames:\n",
    "    os.mkdir('../results/ercc/' + fname_[:-1])"
   ]
  },
  {
   "cell_type": "code",
   "execution_count": 50,
   "metadata": {},
   "outputs": [
    {
     "name": "stdout",
     "output_type": "stream",
     "text": [
      "JVL68_Drop_14_21s004414-1-1_Du_lane121s004414_\n",
      "JVL68_Drop_9_21s004409-1-1_Du_lane121s004409_\n",
      "JVL68_Drop_15_21s004415-1-1_Du_lane121s004415_\n",
      "JVL68_Drop_2_21s004402-1-1_Du_lane121s004402_\n",
      "JVL68_Drop_12_21s004412-1-1_Du_lane121s004412_\n",
      "JVL68_Drop_11_21s004411-1-1_Du_lane121s004411_\n",
      "JVL68_Drop_5_21s004405-1-1_Du_lane121s004405_\n",
      "JVL68_Drop_8_21s004408-1-1_Du_lane121s004408_\n",
      "JVL68_Drop_1_21s004401-1-1_Du_lane121s004401_\n",
      "JVL68_Drop_10_21s004410-1-1_Du_lane121s004410_\n",
      "JVL68_Drop_13_21s004413-1-1_Du_lane121s004413_\n",
      "JVL68_Drop_6_21s004406-1-1_Du_lane121s004406_\n",
      "JVL68_Drop_4_21s004404-1-1_Du_lane121s004404_\n",
      "JVL68_Drop_3_21s004403-1-1_Du_lane121s004403_\n",
      "JVL68_Drop_7_21s004407-1-1_Du_lane121s004407_\n"
     ]
    }
   ],
   "source": [
    "for fname_ in fnames:\n",
    "    print(fname_)\n",
    "    call(['kallisto', 'quant', \n",
    "          '-i', '../data/external/kallisto/transcripts.idx',\n",
    "          '-o', '../results/ercc/'+fname_[:-1],\n",
    "          '../data/spike-in/'+fname_+'1'+sufix, \n",
    "          '../data/spike-in/'+fname_+'2'+sufix])"
   ]
  },
  {
   "cell_type": "code",
   "execution_count": 47,
   "metadata": {},
   "outputs": [],
   "source": [
    "temp = pd.read_csv('../results/ercc/JVL68_Drop_7_21s004407-1-1_Du_lane121s004407/abundance.tsv', sep='\\t', header=0, index_col=0)"
   ]
  },
  {
   "cell_type": "code",
   "execution_count": 48,
   "metadata": {},
   "outputs": [
    {
     "data": {
      "text/plain": [
       "104.0154"
      ]
     },
     "execution_count": 48,
     "metadata": {},
     "output_type": "execute_result"
    }
   ],
   "source": [
    "temp.tail(92)['tpm'].sum()"
   ]
  },
  {
   "cell_type": "code",
   "execution_count": 4,
   "metadata": {},
   "outputs": [],
   "source": [
    "results = pd.DataFrame(index=fnames, columns=['ID', 'ERCC'])\n",
    "for fname_ in fnames:\n",
    "    temp = pd.read_csv('../results/ercc/%s/abundance.tsv' % fname_[:-1], sep='\\t', header=0, index_col=0)\n",
    "    n = int(fname_.split('_')[2])\n",
    "    results.loc[fname_] = n, temp.tail(92)['tpm'].sum()"
   ]
  },
  {
   "cell_type": "code",
   "execution_count": 5,
   "metadata": {},
   "outputs": [],
   "source": [
    "results['Group'] = (results['ID']-1) // 5 + 1\n",
    "mapping = {3:150, 2:250, 1:500}\n",
    "results['Cell per droplet'] = results['Group'].map(mapping)\n",
    "results['ERCC logTPM'] = np.log10(results['ERCC'].astype(float)+1)"
   ]
  },
  {
   "cell_type": "code",
   "execution_count": 81,
   "metadata": {},
   "outputs": [
    {
     "data": {
      "image/png": "[encoded data removed]",
      "text/plain": [
       "<Figure size 432x288 with 1 Axes>"
      ]
     },
     "metadata": {
      "needs_background": "light"
     },
     "output_type": "display_data"
    }
   ],
   "source": [
    "sns.boxplot(x='Cell per droplet', y='ERCC', data=results)\n",
    "plt.savefig('../figures/temp/ercc.pdf')"
   ]
  },
  {
   "cell_type": "code",
   "execution_count": 7,
   "metadata": {},
   "outputs": [
    {
     "data": {
      "text/html": [
       "<div>\n",
       "<style scoped>\n",
       "    .dataframe tbody tr th:only-of-type {\n",
       "        vertical-align: middle;\n",
       "    }\n",
       "\n",
       "    .dataframe tbody tr th {\n",
       "        vertical-align: top;\n",
       "    }\n",
       "\n",
       "    .dataframe thead th {\n",
       "        text-align: right;\n",
       "    }\n",
       "</style>\n",
       "<table border=\"1\" class=\"dataframe\">\n",
       "  <thead>\n",
       "    <tr style=\"text-align: right;\">\n",
       "      <th></th>\n",
       "      <th>ID</th>\n",
       "      <th>ERCC</th>\n",
       "      <th>Group</th>\n",
       "      <th>Cell per droplet</th>\n",
       "      <th>ERCC logTPM</th>\n",
       "    </tr>\n",
       "  </thead>\n",
       "  <tbody>\n",
       "    <tr>\n",
       "      <th>JVL68_Drop_1_21s004401-1-1_Du_lane121s004401_</th>\n",
       "      <td>1</td>\n",
       "      <td>68.4028</td>\n",
       "      <td>1</td>\n",
       "      <td>500</td>\n",
       "      <td>1.841377</td>\n",
       "    </tr>\n",
       "    <tr>\n",
       "      <th>JVL68_Drop_2_21s004402-1-1_Du_lane121s004402_</th>\n",
       "      <td>2</td>\n",
       "      <td>173.843</td>\n",
       "      <td>1</td>\n",
       "      <td>500</td>\n",
       "      <td>2.242649</td>\n",
       "    </tr>\n",
       "    <tr>\n",
       "      <th>JVL68_Drop_3_21s004403-1-1_Du_lane121s004403_</th>\n",
       "      <td>3</td>\n",
       "      <td>201.009</td>\n",
       "      <td>1</td>\n",
       "      <td>500</td>\n",
       "      <td>2.305371</td>\n",
       "    </tr>\n",
       "    <tr>\n",
       "      <th>JVL68_Drop_4_21s004404-1-1_Du_lane121s004404_</th>\n",
       "      <td>4</td>\n",
       "      <td>26.4356</td>\n",
       "      <td>1</td>\n",
       "      <td>500</td>\n",
       "      <td>1.438314</td>\n",
       "    </tr>\n",
       "    <tr>\n",
       "      <th>JVL68_Drop_5_21s004405-1-1_Du_lane121s004405_</th>\n",
       "      <td>5</td>\n",
       "      <td>308.311</td>\n",
       "      <td>1</td>\n",
       "      <td>500</td>\n",
       "      <td>2.490395</td>\n",
       "    </tr>\n",
       "    <tr>\n",
       "      <th>JVL68_Drop_6_21s004406-1-1_Du_lane121s004406_</th>\n",
       "      <td>6</td>\n",
       "      <td>5.0784</td>\n",
       "      <td>2</td>\n",
       "      <td>250</td>\n",
       "      <td>0.783789</td>\n",
       "    </tr>\n",
       "    <tr>\n",
       "      <th>JVL68_Drop_7_21s004407-1-1_Du_lane121s004407_</th>\n",
       "      <td>7</td>\n",
       "      <td>104.015</td>\n",
       "      <td>2</td>\n",
       "      <td>250</td>\n",
       "      <td>2.021253</td>\n",
       "    </tr>\n",
       "    <tr>\n",
       "      <th>JVL68_Drop_8_21s004408-1-1_Du_lane121s004408_</th>\n",
       "      <td>8</td>\n",
       "      <td>214.211</td>\n",
       "      <td>2</td>\n",
       "      <td>250</td>\n",
       "      <td>2.332864</td>\n",
       "    </tr>\n",
       "    <tr>\n",
       "      <th>JVL68_Drop_9_21s004409-1-1_Du_lane121s004409_</th>\n",
       "      <td>9</td>\n",
       "      <td>135.089</td>\n",
       "      <td>2</td>\n",
       "      <td>250</td>\n",
       "      <td>2.133824</td>\n",
       "    </tr>\n",
       "    <tr>\n",
       "      <th>JVL68_Drop_10_21s004410-1-1_Du_lane121s004410_</th>\n",
       "      <td>10</td>\n",
       "      <td>0</td>\n",
       "      <td>2</td>\n",
       "      <td>250</td>\n",
       "      <td>0.000000</td>\n",
       "    </tr>\n",
       "    <tr>\n",
       "      <th>JVL68_Drop_11_21s004411-1-1_Du_lane121s004411_</th>\n",
       "      <td>11</td>\n",
       "      <td>249.142</td>\n",
       "      <td>3</td>\n",
       "      <td>150</td>\n",
       "      <td>2.398186</td>\n",
       "    </tr>\n",
       "    <tr>\n",
       "      <th>JVL68_Drop_12_21s004412-1-1_Du_lane121s004412_</th>\n",
       "      <td>12</td>\n",
       "      <td>380.514</td>\n",
       "      <td>3</td>\n",
       "      <td>150</td>\n",
       "      <td>2.581511</td>\n",
       "    </tr>\n",
       "    <tr>\n",
       "      <th>JVL68_Drop_13_21s004413-1-1_Du_lane121s004413_</th>\n",
       "      <td>13</td>\n",
       "      <td>385.398</td>\n",
       "      <td>3</td>\n",
       "      <td>150</td>\n",
       "      <td>2.587035</td>\n",
       "    </tr>\n",
       "    <tr>\n",
       "      <th>JVL68_Drop_14_21s004414-1-1_Du_lane121s004414_</th>\n",
       "      <td>14</td>\n",
       "      <td>196.489</td>\n",
       "      <td>3</td>\n",
       "      <td>150</td>\n",
       "      <td>2.295542</td>\n",
       "    </tr>\n",
       "    <tr>\n",
       "      <th>JVL68_Drop_15_21s004415-1-1_Du_lane121s004415_</th>\n",
       "      <td>15</td>\n",
       "      <td>237.794</td>\n",
       "      <td>3</td>\n",
       "      <td>150</td>\n",
       "      <td>2.378024</td>\n",
       "    </tr>\n",
       "  </tbody>\n",
       "</table>\n",
       "</div>"
      ],
      "text/plain": [
       "                                                ID     ERCC Group  \\\n",
       "JVL68_Drop_1_21s004401-1-1_Du_lane121s004401_    1  68.4028     1   \n",
       "JVL68_Drop_2_21s004402-1-1_Du_lane121s004402_    2  173.843     1   \n",
       "JVL68_Drop_3_21s004403-1-1_Du_lane121s004403_    3  201.009     1   \n",
       "JVL68_Drop_4_21s004404-1-1_Du_lane121s004404_    4  26.4356     1   \n",
       "JVL68_Drop_5_21s004405-1-1_Du_lane121s004405_    5  308.311     1   \n",
       "JVL68_Drop_6_21s004406-1-1_Du_lane121s004406_    6   5.0784     2   \n",
       "JVL68_Drop_7_21s004407-1-1_Du_lane121s004407_    7  104.015     2   \n",
       "JVL68_Drop_8_21s004408-1-1_Du_lane121s004408_    8  214.211     2   \n",
       "JVL68_Drop_9_21s004409-1-1_Du_lane121s004409_    9  135.089     2   \n",
       "JVL68_Drop_10_21s004410-1-1_Du_lane121s004410_  10        0     2   \n",
       "JVL68_Drop_11_21s004411-1-1_Du_lane121s004411_  11  249.142     3   \n",
       "JVL68_Drop_12_21s004412-1-1_Du_lane121s004412_  12  380.514     3   \n",
       "JVL68_Drop_13_21s004413-1-1_Du_lane121s004413_  13  385.398     3   \n",
       "JVL68_Drop_14_21s004414-1-1_Du_lane121s004414_  14  196.489     3   \n",
       "JVL68_Drop_15_21s004415-1-1_Du_lane121s004415_  15  237.794     3   \n",
       "\n",
       "                                                Cell per droplet  ERCC logTPM  \n",
       "JVL68_Drop_1_21s004401-1-1_Du_lane121s004401_                500     1.841377  \n",
       "JVL68_Drop_2_21s004402-1-1_Du_lane121s004402_                500     2.242649  \n",
       "JVL68_Drop_3_21s004403-1-1_Du_lane121s004403_                500     2.305371  \n",
       "JVL68_Drop_4_21s004404-1-1_Du_lane121s004404_                500     1.438314  \n",
       "JVL68_Drop_5_21s004405-1-1_Du_lane121s004405_                500     2.490395  \n",
       "JVL68_Drop_6_21s004406-1-1_Du_lane121s004406_                250     0.783789  \n",
       "JVL68_Drop_7_21s004407-1-1_Du_lane121s004407_                250     2.021253  \n",
       "JVL68_Drop_8_21s004408-1-1_Du_lane121s004408_                250     2.332864  \n",
       "JVL68_Drop_9_21s004409-1-1_Du_lane121s004409_                250     2.133824  \n",
       "JVL68_Drop_10_21s004410-1-1_Du_lane121s004410_               250     0.000000  \n",
       "JVL68_Drop_11_21s004411-1-1_Du_lane121s004411_               150     2.398186  \n",
       "JVL68_Drop_12_21s004412-1-1_Du_lane121s004412_               150     2.581511  \n",
       "JVL68_Drop_13_21s004413-1-1_Du_lane121s004413_               150     2.587035  \n",
       "JVL68_Drop_14_21s004414-1-1_Du_lane121s004414_               150     2.295542  \n",
       "JVL68_Drop_15_21s004415-1-1_Du_lane121s004415_               150     2.378024  "
      ]
     },
     "execution_count": 7,
     "metadata": {},
     "output_type": "execute_result"
    }
   ],
   "source": [
    "results.sort_values('ID')"
   ]
  },
  {
   "cell_type": "code",
   "execution_count": null,
   "metadata": {},
   "outputs": [],
   "source": []
  }
 ],
 "metadata": {
  "kernelspec": {
   "display_name": "pycharm",
   "language": "python",
   "name": "pycharm"
  },
  "language_info": {
   "codemirror_mode": {
    "name": "ipython",
    "version": 3
   },
   "file_extension": ".py",
   "mimetype": "text/x-python",
   "name": "python",
   "nbconvert_exporter": "python",
   "pygments_lexer": "ipython3",
   "version": "3.7.7"
  }
 },
 "nbformat": 4,
 "nbformat_minor": 4
}
