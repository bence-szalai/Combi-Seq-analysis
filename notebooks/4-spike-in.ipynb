{
 "cells": [
  {
   "cell_type": "code",
   "execution_count": 2,
   "metadata": {},
   "outputs": [],
   "source": [
    "%config Completer.use_jedi = False\n",
    "import pandas as pd\n",
    "import numpy as np\n",
    "import os\n",
    "from subprocess import call\n",
    "import seaborn as sns\n",
    "from matplotlib import pyplot as plt"
   ]
  },
  {
   "cell_type": "markdown",
   "metadata": {},
   "source": [
    "### Creare fasta file"
   ]
  },
  {
   "cell_type": "code",
   "execution_count": 2,
   "metadata": {},
   "outputs": [],
   "source": [
    "fin = open('../data/external/kallisto/homo_sapiens/Homo_sapiens.GRCh38.cdna.all.fa')\n",
    "flines = fin.readlines()\n",
    "fin.close()"
   ]
  },
  {
   "cell_type": "code",
   "execution_count": 5,
   "metadata": {},
   "outputs": [],
   "source": [
    "fout = open('../data/external/kallisto/homo_sapiens_ercc.fa', 'w')\n",
    "for line in flines:\n",
    "    fout.write(line)\n",
    "fin = open('../data/external/ERCC92/ERCC92.fa', 'r')\n",
    "flines = fin.readlines()\n",
    "fin.close()\n",
    "for line in flines:\n",
    "    fout.write(line)\n",
    "fout.close()"
   ]
  },
  {
   "cell_type": "markdown",
   "metadata": {},
   "source": [
    "### Indexing"
   ]
  },
  {
   "cell_type": "code",
   "execution_count": 6,
   "metadata": {},
   "outputs": [
    {
     "name": "stdout",
     "output_type": "stream",
     "text": [
      "\n",
      "[build] loading fasta file ../data/external/kallisto/homo_sapiens_ercc.fa\n",
      "[build] k-mer length: 31\n",
      "[build] warning: clipped off poly-A tail (longer than 10)\n",
      "        from 1522 target sequences\n",
      "[build] warning: replaced 6 non-ACGUT characters in the input sequence\n",
      "        with pseudorandom nucleotides\n",
      "[build] counting k-mers ... done.\n",
      "[build] building target de Bruijn graph ...  done \n",
      "[build] creating equivalence classes ...  done\n",
      "[build] target de Bruijn graph has 1131979 contigs and contains 109622116 k-mers \n",
      "\n"
     ]
    }
   ],
   "source": [
    "!kallisto index -i ../data/external/kallisto/transcripts.idx ../data/external/kallisto/homo_sapiens_ercc.fa"
   ]
  },
  {
   "cell_type": "markdown",
   "metadata": {},
   "source": [
    "### Pseudo alignment"
   ]
  },
  {
   "cell_type": "code",
   "execution_count": 4,
   "metadata": {},
   "outputs": [],
   "source": [
    "fnames = os.listdir('../data/spike-in/')\n",
    "sufix = '_sequence.txt.gz'\n",
    "fnames = [x[:-len(sufix)-1] for x in fnames]\n",
    "fnames = list(set(fnames))"
   ]
  },
  {
   "cell_type": "code",
   "execution_count": 43,
   "metadata": {},
   "outputs": [],
   "source": [
    "for fname_ in fnames:\n",
    "    os.mkdir('../results/ercc/' + fname_[:-1])"
   ]
  },
  {
   "cell_type": "code",
   "execution_count": 50,
   "metadata": {},
   "outputs": [
    {
     "name": "stdout",
     "output_type": "stream",
     "text": [
      "JVL68_Drop_14_21s004414-1-1_Du_lane121s004414_\n",
      "JVL68_Drop_9_21s004409-1-1_Du_lane121s004409_\n",
      "JVL68_Drop_15_21s004415-1-1_Du_lane121s004415_\n",
      "JVL68_Drop_2_21s004402-1-1_Du_lane121s004402_\n",
      "JVL68_Drop_12_21s004412-1-1_Du_lane121s004412_\n",
      "JVL68_Drop_11_21s004411-1-1_Du_lane121s004411_\n",
      "JVL68_Drop_5_21s004405-1-1_Du_lane121s004405_\n",
      "JVL68_Drop_8_21s004408-1-1_Du_lane121s004408_\n",
      "JVL68_Drop_1_21s004401-1-1_Du_lane121s004401_\n",
      "JVL68_Drop_10_21s004410-1-1_Du_lane121s004410_\n",
      "JVL68_Drop_13_21s004413-1-1_Du_lane121s004413_\n",
      "JVL68_Drop_6_21s004406-1-1_Du_lane121s004406_\n",
      "JVL68_Drop_4_21s004404-1-1_Du_lane121s004404_\n",
      "JVL68_Drop_3_21s004403-1-1_Du_lane121s004403_\n",
      "JVL68_Drop_7_21s004407-1-1_Du_lane121s004407_\n"
     ]
    }
   ],
   "source": [
    "for fname_ in fnames:\n",
    "    print(fname_)\n",
    "    call(['kallisto', 'quant', \n",
    "          '-i', '../data/external/kallisto/transcripts.idx',\n",
    "          '-o', '../results/ercc/'+fname_[:-1],\n",
    "          '../data/spike-in/'+fname_+'1'+sufix, \n",
    "          '../data/spike-in/'+fname_+'2'+sufix])"
   ]
  },
  {
   "cell_type": "markdown",
   "metadata": {},
   "source": [
    "### Analysis"
   ]
  },
  {
   "cell_type": "code",
   "execution_count": 142,
   "metadata": {},
   "outputs": [],
   "source": [
    "temp = pd.read_csv('../results/ercc/JVL68_Drop_10_21s004410-1-1_Du_lane121s004410/abundance.tsv', \n",
    "                   sep='\\t', header=0, index_col=0)\n",
    "results = pd.DataFrame(index=temp.index, columns=[x[:-1] for x in fnames])\n",
    "for fname_ in fnames:\n",
    "    temp = pd.read_csv('../results/ercc/%s/abundance.tsv' % fname_[:-1], sep='\\t', header=0, index_col=0)\n",
    "    results[fname_[:-1]] = temp['tpm'].values"
   ]
  },
  {
   "cell_type": "code",
   "execution_count": 143,
   "metadata": {},
   "outputs": [],
   "source": [
    "ercc = pd.read_csv('../data/external/cms_095046.txt',\n",
    "                  sep='\\t', header=0, index_col=1)"
   ]
  },
  {
   "cell_type": "code",
   "execution_count": 153,
   "metadata": {},
   "outputs": [
    {
     "name": "stderr",
     "output_type": "stream",
     "text": [
      "/Users/benceszalai/opt/anaconda3/envs/pycharm/lib/python3.7/site-packages/seaborn/_decorators.py:43: FutureWarning: Pass the following variables as keyword args: x, y. From version 0.12, the only valid positional argument will be `data`, and passing other arguments without an explicit keyword will result in an error or misinterpretation.\n",
      "  FutureWarning\n"
     ]
    },
    {
     "data": {
      "image/png": "[encoded data removed]",
      "text/plain": [
       "<Figure size 432x288 with 1 Axes>"
      ]
     },
     "metadata": {
      "needs_background": "light"
     },
     "output_type": "display_data"
    }
   ],
   "source": [
    "x=results.loc[ercc.index].iloc[:,7]\n",
    "y=ercc['concentration in Mix 1 (attomoles/ul)']\n",
    "sns.scatterplot(np.log2(x+1),np.log2(y+1), hue=ercc['subgroup'])\n",
    "plt.xlabel('log(TPM) in Drop_13')\n",
    "plt.ylabel('log(concentration) in ERCC')\n",
    "plt.savefig('../figures/temp/ercc-example.pdf')"
   ]
  },
  {
   "cell_type": "code",
   "execution_count": 154,
   "metadata": {},
   "outputs": [
    {
     "name": "stderr",
     "output_type": "stream",
     "text": [
      "/Users/benceszalai/opt/anaconda3/envs/pycharm/lib/python3.7/site-packages/seaborn/_decorators.py:43: FutureWarning: Pass the following variables as keyword args: x, y. From version 0.12, the only valid positional argument will be `data`, and passing other arguments without an explicit keyword will result in an error or misinterpretation.\n",
      "  FutureWarning\n"
     ]
    },
    {
     "data": {
      "image/png": "[encoded data removed]",
      "text/plain": [
       "<Figure size 432x288 with 1 Axes>"
      ]
     },
     "metadata": {
      "needs_background": "light"
     },
     "output_type": "display_data"
    }
   ],
   "source": [
    "x=results.loc[ercc.index].sum(1)\n",
    "y=ercc['concentration in Mix 1 (attomoles/ul)']\n",
    "sns.scatterplot(np.log2(x+1),np.log2(y+1), hue=ercc['subgroup'])\n",
    "plt.xlabel('log(TPM) in Drop_13')\n",
    "plt.ylabel('log(concentration) in ERCC')\n",
    "plt.savefig('../figures/temp/ercc-sum.pdf')"
   ]
  },
  {
   "cell_type": "code",
   "execution_count": null,
   "metadata": {},
   "outputs": [],
   "source": []
  }
 ],
 "metadata": {
  "kernelspec": {
   "display_name": "pycharm",
   "language": "python",
   "name": "pycharm"
  },
  "language_info": {
   "codemirror_mode": {
    "name": "ipython",
    "version": 3
   },
   "file_extension": ".py",
   "mimetype": "text/x-python",
   "name": "python",
   "nbconvert_exporter": "python",
   "pygments_lexer": "ipython3",
   "version": "3.7.7"
  }
 },
 "nbformat": 4,
 "nbformat_minor": 4
}
